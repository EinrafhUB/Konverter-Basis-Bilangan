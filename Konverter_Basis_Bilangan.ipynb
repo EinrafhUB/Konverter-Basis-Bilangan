{
  "nbformat": 4,
  "nbformat_minor": 0,
  "metadata": {
    "colab": {
      "provenance": [],
      "authorship_tag": "ABX9TyOdN/c2JfwbATZG152KdPI9"
    },
    "kernelspec": {
      "name": "python3",
      "display_name": "Python 3"
    },
    "language_info": {
      "name": "python"
    }
  },
  "cells": [
    {
      "cell_type": "markdown",
      "source": [
        "# Konverter Basis Bilangan by Muhammad Rafly Ash Shiddiqi\n",
        "### 235150207111062\n",
        "### Teknik Informatika E"
      ],
      "metadata": {
        "id": "apEHhgEpf_B_"
      }
    },
    {
      "cell_type": "code",
      "execution_count": 1,
      "metadata": {
        "id": "JS3EB1CUf-JR"
      },
      "outputs": [],
      "source": [
        "def binerKeDesimal(biner):\n",
        "    desimal = int(biner)\n",
        "    return desimal"
      ]
    },
    {
      "cell_type": "code",
      "source": [
        "def desimalKeBiner(desimal):\n",
        "    biner = bin(desimal)\n",
        "    return biner"
      ],
      "metadata": {
        "id": "n-1IUMzegBo6"
      },
      "execution_count": 2,
      "outputs": []
    },
    {
      "cell_type": "code",
      "source": [
        "def binerKeHexa(biner):\n",
        "    hexa = hex(biner)\n",
        "    return hexa"
      ],
      "metadata": {
        "id": "6Fd1-53KgEkq"
      },
      "execution_count": 3,
      "outputs": []
    },
    {
      "cell_type": "code",
      "source": [
        "def hexaKeBiner(hexa):\n",
        "    biner = bin(hexa)\n",
        "    return biner"
      ],
      "metadata": {
        "id": "qWWHa74agGY4"
      },
      "execution_count": 4,
      "outputs": []
    },
    {
      "cell_type": "code",
      "source": [
        "def desimalKeHexa(desimal):\n",
        "    hexa = hex(desimal)\n",
        "    return hexa"
      ],
      "metadata": {
        "id": "c2jAlJIvgHOx"
      },
      "execution_count": 5,
      "outputs": []
    },
    {
      "cell_type": "code",
      "source": [
        "def hexaKeDesimal(hexa):\n",
        "    desimal = int(hexa)\n",
        "    return desimal"
      ],
      "metadata": {
        "id": "_tN9e-olgIJi"
      },
      "execution_count": 6,
      "outputs": []
    },
    {
      "cell_type": "code",
      "source": [
        "menu = [\n",
        "    'Keluar',\n",
        "    'Biner ke Desimal',\n",
        "    'Desimal ke Biner',\n",
        "    'Biner ke Hexa',\n",
        "    'Hexa ke Biner',\n",
        "    'Desimal ke Hexa',\n",
        "    'Hexa ke Desimal',\n",
        "]\n",
        "\n",
        "while True:\n",
        "    print('KONVERTER BASIS BILANGAN')\n",
        "    for i in range(len(menu)):\n",
        "        print(f'{i}. {menu[i]}')\n",
        "\n",
        "    pilihan = input('Masukkan pilihan anda: ')\n",
        "    if pilihan == '0':\n",
        "        break\n",
        "    elif pilihan == '1':\n",
        "        biner = int(input('Masukkan bilangan biner: '), 2)\n",
        "        print(binerKeDesimal(biner))\n",
        "    elif pilihan == '2':\n",
        "        desimal = int(input('Masukkan bilangan desimal: '))\n",
        "        print(desimalKeBiner(desimal))\n",
        "    elif pilihan == '3':\n",
        "        biner = int(input('Masukkan bilangan biner: '), 2)\n",
        "        print(binerKeHexa(biner))\n",
        "    elif pilihan == '4':\n",
        "        hexa = int(input('Masukkan bilangan hexa: '), 16)\n",
        "        print(hexaKeBiner(hexa))\n",
        "    elif pilihan == '5':\n",
        "        desimal = int(input('Masukkan bilangan desimal: '))\n",
        "        print(desimalKeHexa(desimal))\n",
        "    elif pilihan == '6':\n",
        "        hexa = int(input('Masukkan bilangan hexa: '), 16)\n",
        "        print(hexaKeDesimal(hexa))\n",
        "    else:\n",
        "        print('Input tidak valid!')"
      ],
      "metadata": {
        "colab": {
          "base_uri": "https://localhost:8080/"
        },
        "id": "Ts25k3KggJHs",
        "outputId": "e9a3dbbf-c8f7-4edb-e530-ca8d5878546f"
      },
      "execution_count": 7,
      "outputs": [
        {
          "name": "stdout",
          "output_type": "stream",
          "text": [
            "KONVERTER BASIS BILANGAN\n",
            "0. Keluar\n",
            "1. Biner ke Desimal\n",
            "2. Desimal ke Biner\n",
            "3. Biner ke Hexa\n",
            "4. Hexa ke Biner\n",
            "5. Desimal ke Hexa\n",
            "6. Hexa ke Desimal\n",
            "Masukkan pilihan anda: 1\n",
            "Masukkan bilangan biner: 1100\n",
            "12\n",
            "KONVERTER BASIS BILANGAN\n",
            "0. Keluar\n",
            "1. Biner ke Desimal\n",
            "2. Desimal ke Biner\n",
            "3. Biner ke Hexa\n",
            "4. Hexa ke Biner\n",
            "5. Desimal ke Hexa\n",
            "6. Hexa ke Desimal\n",
            "Masukkan pilihan anda: 2\n",
            "Masukkan bilangan desimal: 12\n",
            "0b1100\n",
            "KONVERTER BASIS BILANGAN\n",
            "0. Keluar\n",
            "1. Biner ke Desimal\n",
            "2. Desimal ke Biner\n",
            "3. Biner ke Hexa\n",
            "4. Hexa ke Biner\n",
            "5. Desimal ke Hexa\n",
            "6. Hexa ke Desimal\n",
            "Masukkan pilihan anda: 3\n",
            "Masukkan bilangan biner: 1100\n",
            "0xc\n",
            "KONVERTER BASIS BILANGAN\n",
            "0. Keluar\n",
            "1. Biner ke Desimal\n",
            "2. Desimal ke Biner\n",
            "3. Biner ke Hexa\n",
            "4. Hexa ke Biner\n",
            "5. Desimal ke Hexa\n",
            "6. Hexa ke Desimal\n",
            "Masukkan pilihan anda: 4\n",
            "Masukkan bilangan hexa: c\n",
            "0b1100\n",
            "KONVERTER BASIS BILANGAN\n",
            "0. Keluar\n",
            "1. Biner ke Desimal\n",
            "2. Desimal ke Biner\n",
            "3. Biner ke Hexa\n",
            "4. Hexa ke Biner\n",
            "5. Desimal ke Hexa\n",
            "6. Hexa ke Desimal\n",
            "Masukkan pilihan anda: 5\n",
            "Masukkan bilangan desimal: 12\n",
            "0xc\n",
            "KONVERTER BASIS BILANGAN\n",
            "0. Keluar\n",
            "1. Biner ke Desimal\n",
            "2. Desimal ke Biner\n",
            "3. Biner ke Hexa\n",
            "4. Hexa ke Biner\n",
            "5. Desimal ke Hexa\n",
            "6. Hexa ke Desimal\n",
            "Masukkan pilihan anda: 6\n",
            "Masukkan bilangan hexa: c\n",
            "12\n",
            "KONVERTER BASIS BILANGAN\n",
            "0. Keluar\n",
            "1. Biner ke Desimal\n",
            "2. Desimal ke Biner\n",
            "3. Biner ke Hexa\n",
            "4. Hexa ke Biner\n",
            "5. Desimal ke Hexa\n",
            "6. Hexa ke Desimal\n",
            "Masukkan pilihan anda: w\n",
            "Input tidak valid!\n",
            "KONVERTER BASIS BILANGAN\n",
            "0. Keluar\n",
            "1. Biner ke Desimal\n",
            "2. Desimal ke Biner\n",
            "3. Biner ke Hexa\n",
            "4. Hexa ke Biner\n",
            "5. Desimal ke Hexa\n",
            "6. Hexa ke Desimal\n",
            "Masukkan pilihan anda: 0\n"
          ]
        }
      ]
    }
  ]
}